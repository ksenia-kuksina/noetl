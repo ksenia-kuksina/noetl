{
 "cells": [
  {
   "cell_type": "code",
   "id": "70cba194-560a-4079-a55e-b24273e25b72",
   "metadata": {
    "ExecuteTime": {
     "end_time": "2025-06-11T19:09:41.726959Z",
     "start_time": "2025-06-11T19:08:36.519118Z"
    }
   },
   "source": [
    "from google.cloud import secretmanager\n",
    "def get_secret(secret_id, project_id):\n",
    "    client = secretmanager.SecretManagerServiceClient()\n",
    "    name = f\"projects/{project_id}/secrets/{secret_id}/versions/latest\"\n",
    "    response = client.access_secret_version(request={\"name\": name})\n",
    "    return response.payload.data.decode(\"UTF-8\")\n",
    "\n",
    "project_id = \"impressive-mile-162105\"\n",
    "s3_access_key_id = get_secret(\"noetl-demo-access-key-id\", project_id)\n",
    "s3_secret_access_key = get_secret(\"noetl-demo-secret-access-key\", project_id)"
   ],
   "outputs": [],
   "execution_count": 1
  },
  {
   "cell_type": "code",
   "id": "129d1055-a804-4026-8cbc-e50485ff0a76",
   "metadata": {
    "ExecuteTime": {
     "end_time": "2025-06-11T19:09:44.828117Z",
     "start_time": "2025-06-11T19:09:41.877934Z"
    }
   },
   "source": [
    "import duckdb\n",
    "\n",
    "duckdb.sql(\"INSTALL httpfs; LOAD httpfs;\")\n",
    "duckdb.sql(\"SET s3_endpoint='storage.googleapis.com';\")\n",
    "duckdb.sql(f\"SET s3_access_key_id='{s3_access_key_id}';\")\n",
    "duckdb.sql(f\"SET s3_secret_access_key='{s3_secret_access_key}';\")\n",
    "\n",
    "symbols_valid_meta_polars_df = duckdb.sql(\"\"\"\n",
    "    SELECT * FROM read_csv_auto('gs://noetl-samples/stock-market-dataset/symbols_valid_meta.csv');\n",
    "\"\"\").pl()\n",
    "print(symbols_valid_meta_polars_df.head())\n"
   ],
   "outputs": [
    {
     "name": "stdout",
     "output_type": "stream",
     "text": [
      "shape: (5, 12)\n",
      "┌────────┬────────┬──────────────────────┬──────────┬───┬───────────┬────────┬────────┬────────────┐\n",
      "│ Nasdaq ┆ Symbol ┆ Security Name        ┆ Listing  ┆ … ┆ Financial ┆ CQS    ┆ NASDAQ ┆ NextShares │\n",
      "│ Traded ┆ ---    ┆ ---                  ┆ Exchange ┆   ┆ Status    ┆ Symbol ┆ Symbol ┆ ---        │\n",
      "│ ---    ┆ str    ┆ str                  ┆ ---      ┆   ┆ ---       ┆ ---    ┆ ---    ┆ str        │\n",
      "│ str    ┆        ┆                      ┆ str      ┆   ┆ str       ┆ str    ┆ str    ┆            │\n",
      "╞════════╪════════╪══════════════════════╪══════════╪═══╪═══════════╪════════╪════════╪════════════╡\n",
      "│ Y      ┆ A      ┆ Agilent              ┆ N        ┆ … ┆ null      ┆ A      ┆ A      ┆ N          │\n",
      "│        ┆        ┆ Technologies, Inc.   ┆          ┆   ┆           ┆        ┆        ┆            │\n",
      "│        ┆        ┆ Com…                 ┆          ┆   ┆           ┆        ┆        ┆            │\n",
      "│ Y      ┆ AA     ┆ Alcoa Corporation    ┆ N        ┆ … ┆ null      ┆ AA     ┆ AA     ┆ N          │\n",
      "│        ┆        ┆ Common Stock…        ┆          ┆   ┆           ┆        ┆        ┆            │\n",
      "│ Y      ┆ AAAU   ┆ Perth Mint Physical  ┆ P        ┆ … ┆ null      ┆ AAAU   ┆ AAAU   ┆ N          │\n",
      "│        ┆        ┆ Gold ETF             ┆          ┆   ┆           ┆        ┆        ┆            │\n",
      "│ Y      ┆ AACG   ┆ ATA Creativity       ┆ Q        ┆ … ┆ N         ┆ null   ┆ AACG   ┆ N          │\n",
      "│        ┆        ┆ Global - Americ…     ┆          ┆   ┆           ┆        ┆        ┆            │\n",
      "│ Y      ┆ AADR   ┆ AdvisorShares Dorsey ┆ P        ┆ … ┆ null      ┆ AADR   ┆ AADR   ┆ N          │\n",
      "│        ┆        ┆ Wright AD…           ┆          ┆   ┆           ┆        ┆        ┆            │\n",
      "└────────┴────────┴──────────────────────┴──────────┴───┴───────────┴────────┴────────┴────────────┘\n"
     ]
    }
   ],
   "execution_count": 2
  },
  {
   "cell_type": "code",
   "id": "25bf9760-3eff-4e3c-a127-6764278a0c85",
   "metadata": {
    "ExecuteTime": {
     "end_time": "2025-06-11T19:40:55.457445Z",
     "start_time": "2025-06-11T19:40:55.063655Z"
    }
   },
   "source": [
    "import duckdb\n",
    "\n",
    "duckdb.sql(\"INSTALL httpfs; LOAD httpfs;\")\n",
    "duckdb.sql(\"SET s3_endpoint='storage.googleapis.com';\")\n",
    "duckdb.sql(f\"SET s3_access_key_id='{s3_access_key_id}';\")\n",
    "duckdb.sql(f\"SET s3_secret_access_key='{s3_secret_access_key}';\")\n",
    "\n",
    "df_polars = duckdb.sql(\"\"\"\n",
    "    SELECT * FROM read_parquet('s3://noetl-examples/kaggle/stock-market-dataset/*.parquet')\n",
    "\"\"\").pl()\n",
    "print(df_polars.head())"
   ],
   "outputs": [
    {
     "name": "stdout",
     "output_type": "stream",
     "text": [
      "shape: (5, 12)\n",
      "┌────────┬────────┬──────────────────────┬──────────┬───┬───────────┬────────┬────────┬────────────┐\n",
      "│ Nasdaq ┆ Symbol ┆ Security Name        ┆ Listing  ┆ … ┆ Financial ┆ CQS    ┆ NASDAQ ┆ NextShares │\n",
      "│ Traded ┆ ---    ┆ ---                  ┆ Exchange ┆   ┆ Status    ┆ Symbol ┆ Symbol ┆ ---        │\n",
      "│ ---    ┆ str    ┆ str                  ┆ ---      ┆   ┆ ---       ┆ ---    ┆ ---    ┆ str        │\n",
      "│ str    ┆        ┆                      ┆ str      ┆   ┆ str       ┆ str    ┆ str    ┆            │\n",
      "╞════════╪════════╪══════════════════════╪══════════╪═══╪═══════════╪════════╪════════╪════════════╡\n",
      "│ Y      ┆ A      ┆ Agilent              ┆ N        ┆ … ┆ null      ┆ A      ┆ A      ┆ N          │\n",
      "│        ┆        ┆ Technologies, Inc.   ┆          ┆   ┆           ┆        ┆        ┆            │\n",
      "│        ┆        ┆ Com…                 ┆          ┆   ┆           ┆        ┆        ┆            │\n",
      "│ Y      ┆ AA     ┆ Alcoa Corporation    ┆ N        ┆ … ┆ null      ┆ AA     ┆ AA     ┆ N          │\n",
      "│        ┆        ┆ Common Stock…        ┆          ┆   ┆           ┆        ┆        ┆            │\n",
      "│ Y      ┆ AAAU   ┆ Perth Mint Physical  ┆ P        ┆ … ┆ null      ┆ AAAU   ┆ AAAU   ┆ N          │\n",
      "│        ┆        ┆ Gold ETF             ┆          ┆   ┆           ┆        ┆        ┆            │\n",
      "│ Y      ┆ AACG   ┆ ATA Creativity       ┆ Q        ┆ … ┆ N         ┆ null   ┆ AACG   ┆ N          │\n",
      "│        ┆        ┆ Global - Americ…     ┆          ┆   ┆           ┆        ┆        ┆            │\n",
      "│ Y      ┆ AADR   ┆ AdvisorShares Dorsey ┆ P        ┆ … ┆ null      ┆ AADR   ┆ AADR   ┆ N          │\n",
      "│        ┆        ┆ Wright AD…           ┆          ┆   ┆           ┆        ┆        ┆            │\n",
      "└────────┴────────┴──────────────────────┴──────────┴───┴───────────┴────────┴────────┴────────────┘\n"
     ]
    }
   ],
   "execution_count": 24
  },
  {
   "metadata": {
    "ExecuteTime": {
     "end_time": "2025-06-11T19:25:40.024770Z",
     "start_time": "2025-06-11T19:25:40.007679Z"
    }
   },
   "cell_type": "code",
   "source": [
    "# Install and load the postgres extension for DuckDB\n",
    "duckdb.sql(\"INSTALL postgres;\")\n",
    "duckdb.sql(\"LOAD postgres;\")\n",
    "# Connection parameters (for reference)\n",
    "pg_user = \"noetl\"\n",
    "pg_password = \"noetl\"\n",
    "pg_host = \"localhost\"\n",
    "pg_port = \"5434\"\n",
    "pg_db = \"noetl\"\n",
    "\n",
    "# Create a secret for PostgreSQL credentials using DuckDB's Secrets Manager\n",
    "duckdb.sql(\"\"\"\n",
    "CREATE OR REPLACE SECRET noetl_pg_secret (\n",
    "  TYPE postgres,\n",
    "  HOST 'localhost',\n",
    "  PORT 5434,\n",
    "  DATABASE 'noetl',\n",
    "  USER 'noetl',\n",
    "  PASSWORD 'noetl'\n",
    ");\n",
    "\"\"\")"
   ],
   "id": "15f533a8b8396bc5",
   "outputs": [
    {
     "data": {
      "text/plain": [
       "┌─────────┐\n",
       "│ Success │\n",
       "│ boolean │\n",
       "├─────────┤\n",
       "│ true    │\n",
       "└─────────┘"
      ]
     },
     "execution_count": 7,
     "metadata": {},
     "output_type": "execute_result"
    }
   ],
   "execution_count": 7
  },
  {
   "metadata": {
    "ExecuteTime": {
     "end_time": "2025-06-11T19:27:13.543529Z",
     "start_time": "2025-06-11T19:27:13.532650Z"
    }
   },
   "cell_type": "code",
   "source": "duckdb.sql(\"\"\"FROM duckdb_secrets();\"\"\")",
   "id": "1794abd1d9c463d8",
   "outputs": [
    {
     "data": {
      "text/plain": [
       "┌─────────────────┬──────────┬──────────┬────────────┬─────────┬───────────┬───────────────────────────────────────────────────────────────────────────────────────────────────────────────────────────────────────────────┐\n",
       "│      name       │   type   │ provider │ persistent │ storage │   scope   │                                                                 secret_string                                                                 │\n",
       "│     varchar     │ varchar  │ varchar  │  boolean   │ varchar │ varchar[] │                                                                    varchar                                                                    │\n",
       "├─────────────────┼──────────┼──────────┼────────────┼─────────┼───────────┼───────────────────────────────────────────────────────────────────────────────────────────────────────────────────────────────────────────────┤\n",
       "│ noetl_pg_secret │ postgres │ config   │ false      │ memory  │ []        │ name=noetl_pg_secret;type=postgres;provider=config;serializable=true;scope;dbname=noetl;host=localhost;password=redacted;port=5434;user=noetl │\n",
       "└─────────────────┴──────────┴──────────┴────────────┴─────────┴───────────┴───────────────────────────────────────────────────────────────────────────────────────────────────────────────────────────────────────────────┘"
      ]
     },
     "execution_count": 10,
     "metadata": {},
     "output_type": "execute_result"
    }
   ],
   "execution_count": 10
  },
  {
   "metadata": {
    "ExecuteTime": {
     "end_time": "2025-06-12T03:07:24.996904Z",
     "start_time": "2025-06-12T03:07:24.954157Z"
    }
   },
   "cell_type": "code",
   "source": [
    "\n",
    "table_name = \"symbols_valid_meta\"\n",
    "duckdb.sql(\"SHOW DATABASES;\")\n",
    "duckdb.sql(\"DETACH noetl_pg;\")\n",
    "duckdb.register('df_polars', df_polars)\n",
    "duckdb.sql(\"\"\"\n",
    "    ATTACH '' AS noetl_pg (TYPE postgres, secret noetl_pg_secret)\n",
    "\"\"\")\n",
    "\n",
    "duckdb.sql(f\"\"\"\n",
    "    CREATE TABLE IF NOT EXISTS noetl_pg.{table_name} AS\n",
    "    SELECT * FROM df_polars limit 0\n",
    "\"\"\")\n",
    "\n",
    "duckdb.sql(f\"\"\"INSERT INTO noetl_pg.{table_name} SELECT * FROM df_polars\"\"\")\n",
    "\n",
    "# duckdb.sql(\"\"\"\n",
    "#     COPY df_polars\n",
    "#     TO 'market_dataset.parquet' (FORMAT parquet)\n",
    "# \"\"\")\n",
    "#\n",
    "# duckdb.sql(f\"\"\"\n",
    "#     COPY noetl_pg.{table_name} FROM 'market_dataset.parquet'\n",
    "# \"\"\")"
   ],
   "id": "81f016a2-9938-4614-b409-41d281b22591",
   "outputs": [],
   "execution_count": 38
  },
  {
   "metadata": {},
   "cell_type": "code",
   "outputs": [],
   "execution_count": null,
   "source": "",
   "id": "14ea14d3e764c1df"
  },
  {
   "cell_type": "code",
   "id": "6e292d23-f5f6-4c72-9d96-7f75f65fbfce",
   "metadata": {
    "ExecuteTime": {
     "end_time": "2025-06-11T19:43:12.351941Z",
     "start_time": "2025-06-11T19:43:12.249400Z"
    }
   },
   "source": [
    "import polars as pl\n",
    "\n",
    "# Using the same credentials as defined in the secret above\n",
    "# Note: For Polars, we still need to use the connection string format\n",
    "df_polars = pl.read_database_uri(\n",
    "    \"SELECT * FROM test_data_table\",\n",
    "    f\"postgresql://{pg_user}:{pg_password}@{pg_host}:{pg_port}/{pg_db}\"\n",
    ")\n",
    "print(df_polars.head())"
   ],
   "outputs": [
    {
     "name": "stdout",
     "output_type": "stream",
     "text": [
      "shape: (5, 7)\n",
      "┌─────┬─────────┬──────┬─────────────────┬───────────┬──────────────────────┬──────────────────────┐\n",
      "│ id  ┆ name    ┆ age  ┆ created_at      ┆ is_active ┆ meta_data            ┆ description          │\n",
      "│ --- ┆ ---     ┆ ---  ┆ ---             ┆ ---       ┆ ---                  ┆ ---                  │\n",
      "│ i32 ┆ str     ┆ i32  ┆ datetime[μs]    ┆ bool      ┆ str                  ┆ str                  │\n",
      "╞═════╪═════════╪══════╪═════════════════╪═══════════╪══════════════════════╪══════════════════════╡\n",
      "│ 1   ┆ Alice   ┆ 30   ┆ 2025-06-11      ┆ true      ┆ {\"key_1\":\"value_1\",\" ┆ Line 1\\nLine 2\\nLine │\n",
      "│     ┆         ┆      ┆ 08:08:39.481777 ┆           ┆ key_2\":123…          ┆ 3                    │\n",
      "│ 2   ┆ Bob     ┆ 25   ┆ 2025-06-11      ┆ true      ┆ {\"key_1\":\"value_2\",\" ┆ This is a\\nmultiline │\n",
      "│     ┆         ┆      ┆ 08:08:39.481777 ┆           ┆ key_2\":456…          ┆ descripti…           │\n",
      "│ 3   ┆ Charlie ┆ 40   ┆ 2025-06-11      ┆ true      ┆ {\"key_1\":\"value_3\",\" ┆ Description\\nwith    │\n",
      "│     ┆         ┆      ┆ 08:08:39.481777 ┆           ┆ key_3\":\"ex…          ┆ only two lin…        │\n",
      "│ 4   ┆ Daisy   ┆ 35   ┆ 2025-06-11      ┆ true      ┆ {\"key_4\":\"value_4\",\" ┆ Another\\nexample\\nof │\n",
      "│     ┆         ┆      ┆ 08:08:39.481777 ┆           ┆ nested_key…          ┆ multiline…           │\n",
      "│ 5   ┆ Eva     ┆ null ┆ 2025-06-11      ┆ true      ┆ null                 ┆ NULL JSON\\nand AGE   │\n",
      "│     ┆         ┆      ┆ 08:08:39.481777 ┆           ┆                      ┆ values.              │\n",
      "└─────┴─────────┴──────┴─────────────────┴───────────┴──────────────────────┴──────────────────────┘\n"
     ]
    }
   ],
   "execution_count": 29
  },
  {
   "cell_type": "code",
   "execution_count": null,
   "id": "52c96b89-bb13-4567-8d6e-618893a2f48a",
   "metadata": {},
   "outputs": [],
   "source": []
  }
 ],
 "metadata": {
  "kernelspec": {
   "display_name": "Python 3 (ipykernel)",
   "language": "python",
   "name": "python3"
  },
  "language_info": {
   "codemirror_mode": {
    "name": "ipython",
    "version": 3
   },
   "file_extension": ".py",
   "mimetype": "text/x-python",
   "name": "python",
   "nbconvert_exporter": "python",
   "pygments_lexer": "ipython3",
   "version": "3.11.6"
  }
 },
 "nbformat": 4,
 "nbformat_minor": 5
}
