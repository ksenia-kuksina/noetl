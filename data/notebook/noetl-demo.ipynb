{
 "cells": [
  {
   "cell_type": "code",
   "execution_count": 1,
   "id": "70cba194-560a-4079-a55e-b24273e25b72",
   "metadata": {},
   "outputs": [],
   "source": [
    "from google.cloud import secretmanager\n",
    "def get_secret(secret_id, project_id):\n",
    "    client = secretmanager.SecretManagerServiceClient()\n",
    "    name = f\"projects/{project_id}/secrets/{secret_id}/versions/latest\"\n",
    "    response = client.access_secret_version(request={\"name\": name})\n",
    "    return response.payload.data.decode(\"UTF-8\")\n",
    "\n",
    "project_id = \"impressive-mile-162105\"\n",
    "s3_access_key_id = get_secret(\"noetl-demo-access-key-id\", project_id)\n",
    "s3_secret_access_key = get_secret(\"noetl-demo-secret-access-key\", project_id)"
   ]
  },
  {
   "cell_type": "code",
   "execution_count": 10,
   "id": "129d1055-a804-4026-8cbc-e50485ff0a76",
   "metadata": {},
   "outputs": [
    {
     "name": "stdout",
     "output_type": "stream",
     "text": [
      "shape: (5, 12)\n",
      "┌────────┬────────┬──────────────────────┬──────────┬───┬───────────┬────────┬────────┬────────────┐\n",
      "│ Nasdaq ┆ Symbol ┆ Security Name        ┆ Listing  ┆ … ┆ Financial ┆ CQS    ┆ NASDAQ ┆ NextShares │\n",
      "│ Traded ┆ ---    ┆ ---                  ┆ Exchange ┆   ┆ Status    ┆ Symbol ┆ Symbol ┆ ---        │\n",
      "│ ---    ┆ str    ┆ str                  ┆ ---      ┆   ┆ ---       ┆ ---    ┆ ---    ┆ str        │\n",
      "│ str    ┆        ┆                      ┆ str      ┆   ┆ str       ┆ str    ┆ str    ┆            │\n",
      "╞════════╪════════╪══════════════════════╪══════════╪═══╪═══════════╪════════╪════════╪════════════╡\n",
      "│ Y      ┆ A      ┆ Agilent              ┆ N        ┆ … ┆ null      ┆ A      ┆ A      ┆ N          │\n",
      "│        ┆        ┆ Technologies, Inc.   ┆          ┆   ┆           ┆        ┆        ┆            │\n",
      "│        ┆        ┆ Com…                 ┆          ┆   ┆           ┆        ┆        ┆            │\n",
      "│ Y      ┆ AA     ┆ Alcoa Corporation    ┆ N        ┆ … ┆ null      ┆ AA     ┆ AA     ┆ N          │\n",
      "│        ┆        ┆ Common Stock…        ┆          ┆   ┆           ┆        ┆        ┆            │\n",
      "│ Y      ┆ AAAU   ┆ Perth Mint Physical  ┆ P        ┆ … ┆ null      ┆ AAAU   ┆ AAAU   ┆ N          │\n",
      "│        ┆        ┆ Gold ETF             ┆          ┆   ┆           ┆        ┆        ┆            │\n",
      "│ Y      ┆ AACG   ┆ ATA Creativity       ┆ Q        ┆ … ┆ N         ┆ null   ┆ AACG   ┆ N          │\n",
      "│        ┆        ┆ Global - Americ…     ┆          ┆   ┆           ┆        ┆        ┆            │\n",
      "│ Y      ┆ AADR   ┆ AdvisorShares Dorsey ┆ P        ┆ … ┆ null      ┆ AADR   ┆ AADR   ┆ N          │\n",
      "│        ┆        ┆ Wright AD…           ┆          ┆   ┆           ┆        ┆        ┆            │\n",
      "└────────┴────────┴──────────────────────┴──────────┴───┴───────────┴────────┴────────┴────────────┘\n"
     ]
    }
   ],
   "source": [
    "import duckdb\n",
    "\n",
    "duckdb.sql(\"INSTALL httpfs; LOAD httpfs;\")\n",
    "duckdb.sql(\"SET s3_endpoint='storage.googleapis.com';\")\n",
    "duckdb.sql(f\"SET s3_access_key_id='{s3_access_key_id}';\")\n",
    "duckdb.sql(f\"SET s3_secret_access_key='{s3_secret_access_key}';\")\n",
    "\n",
    "symbols_valid_meta_polars_df = duckdb.sql(\"\"\"\n",
    "    SELECT * FROM read_csv_auto('gs://noetl-samples/stock-market-dataset/symbols_valid_meta.csv');\n",
    "\"\"\").pl()\n",
    "print(symbols_valid_meta_polars_df.head())\n"
   ]
  },
  {
   "cell_type": "code",
   "execution_count": 12,
   "id": "25bf9760-3eff-4e3c-a127-6764278a0c85",
   "metadata": {},
   "outputs": [
    {
     "name": "stdout",
     "output_type": "stream",
     "text": [
      "shape: (5, 12)\n",
      "┌────────┬────────┬──────────────────────┬──────────┬───┬───────────┬────────┬────────┬────────────┐\n",
      "│ Nasdaq ┆ Symbol ┆ Security Name        ┆ Listing  ┆ … ┆ Financial ┆ CQS    ┆ NASDAQ ┆ NextShares │\n",
      "│ Traded ┆ ---    ┆ ---                  ┆ Exchange ┆   ┆ Status    ┆ Symbol ┆ Symbol ┆ ---        │\n",
      "│ ---    ┆ str    ┆ str                  ┆ ---      ┆   ┆ ---       ┆ ---    ┆ ---    ┆ str        │\n",
      "│ str    ┆        ┆                      ┆ str      ┆   ┆ str       ┆ str    ┆ str    ┆            │\n",
      "╞════════╪════════╪══════════════════════╪══════════╪═══╪═══════════╪════════╪════════╪════════════╡\n",
      "│ Y      ┆ A      ┆ Agilent              ┆ N        ┆ … ┆ null      ┆ A      ┆ A      ┆ N          │\n",
      "│        ┆        ┆ Technologies, Inc.   ┆          ┆   ┆           ┆        ┆        ┆            │\n",
      "│        ┆        ┆ Com…                 ┆          ┆   ┆           ┆        ┆        ┆            │\n",
      "│ Y      ┆ AA     ┆ Alcoa Corporation    ┆ N        ┆ … ┆ null      ┆ AA     ┆ AA     ┆ N          │\n",
      "│        ┆        ┆ Common Stock…        ┆          ┆   ┆           ┆        ┆        ┆            │\n",
      "│ Y      ┆ AAAU   ┆ Perth Mint Physical  ┆ P        ┆ … ┆ null      ┆ AAAU   ┆ AAAU   ┆ N          │\n",
      "│        ┆        ┆ Gold ETF             ┆          ┆   ┆           ┆        ┆        ┆            │\n",
      "│ Y      ┆ AACG   ┆ ATA Creativity       ┆ Q        ┆ … ┆ N         ┆ null   ┆ AACG   ┆ N          │\n",
      "│        ┆        ┆ Global - Americ…     ┆          ┆   ┆           ┆        ┆        ┆            │\n",
      "│ Y      ┆ AADR   ┆ AdvisorShares Dorsey ┆ P        ┆ … ┆ null      ┆ AADR   ┆ AADR   ┆ N          │\n",
      "│        ┆        ┆ Wright AD…           ┆          ┆   ┆           ┆        ┆        ┆            │\n",
      "└────────┴────────┴──────────────────────┴──────────┴───┴───────────┴────────┴────────┴────────────┘\n"
     ]
    }
   ],
   "source": [
    "import duckdb\n",
    "\n",
    "duckdb.sql(\"INSTALL httpfs; LOAD httpfs;\")\n",
    "duckdb.sql(\"SET s3_endpoint='storage.googleapis.com';\")\n",
    "duckdb.sql(f\"SET s3_access_key_id='{s3_access_key_id}';\")\n",
    "duckdb.sql(f\"SET s3_secret_access_key='{s3_secret_access_key}';\")\n",
    "\n",
    "df_polars = duckdb.sql(\"\"\"\n",
    "    SELECT * FROM read_parquet('s3://noetl-examples/kaggle/stock-market-dataset/*.parquet')\n",
    "\"\"\").pl()\n",
    "print(df_polars.head())"
   ]
  },
  {
   "cell_type": "code",
   "execution_count": 13,
   "id": "81f016a2-9938-4614-b409-41d281b22591",
   "metadata": {},
   "outputs": [
    {
     "data": {
      "text/plain": [
       "-1"
      ]
     },
     "execution_count": 13,
     "metadata": {},
     "output_type": "execute_result"
    }
   ],
   "source": [
    "from sqlalchemy import create_engine\n",
    "pg_user = \"noetl\"\n",
    "pg_password = \"noetl\"\n",
    "pg_host = \"db\"\n",
    "pg_port = \"5434\"\n",
    "pg_db = \"noetl\"\n",
    "engine = create_engine(f\"postgresql+psycopg://{pg_user}:{pg_password}@{pg_host}:{pg_port}/{pg_db}\")\n",
    "df_pandas = df_polars.to_pandas()\n",
    "table_name = \"symbols_valid_meta\"\n",
    "df_pandas.to_sql(table_name, engine, if_exists='replace', index=False)"
   ]
  },
  {
   "cell_type": "code",
   "execution_count": 14,
   "id": "6e292d23-f5f6-4c72-9d96-7f75f65fbfce",
   "metadata": {},
   "outputs": [
    {
     "name": "stdout",
     "output_type": "stream",
     "text": [
      "shape: (5, 7)\n",
      "┌─────┬─────────┬──────┬─────────────────┬───────────┬──────────────────────┬──────────────────────┐\n",
      "│ id  ┆ name    ┆ age  ┆ created_at      ┆ is_active ┆ meta_data            ┆ description          │\n",
      "│ --- ┆ ---     ┆ ---  ┆ ---             ┆ ---       ┆ ---                  ┆ ---                  │\n",
      "│ i32 ┆ str     ┆ i32  ┆ datetime[μs]    ┆ bool      ┆ str                  ┆ str                  │\n",
      "╞═════╪═════════╪══════╪═════════════════╪═══════════╪══════════════════════╪══════════════════════╡\n",
      "│ 1   ┆ Alice   ┆ 30   ┆ 2025-06-11      ┆ true      ┆ {\"key_1\":\"value_1\",\" ┆ Line 1\\nLine 2\\nLine │\n",
      "│     ┆         ┆      ┆ 08:08:39.481777 ┆           ┆ key_2\":123…          ┆ 3                    │\n",
      "│ 2   ┆ Bob     ┆ 25   ┆ 2025-06-11      ┆ true      ┆ {\"key_1\":\"value_2\",\" ┆ This is a\\nmultiline │\n",
      "│     ┆         ┆      ┆ 08:08:39.481777 ┆           ┆ key_2\":456…          ┆ descripti…           │\n",
      "│ 3   ┆ Charlie ┆ 40   ┆ 2025-06-11      ┆ true      ┆ {\"key_1\":\"value_3\",\" ┆ Description\\nwith    │\n",
      "│     ┆         ┆      ┆ 08:08:39.481777 ┆           ┆ key_3\":\"ex…          ┆ only two lin…        │\n",
      "│ 4   ┆ Daisy   ┆ 35   ┆ 2025-06-11      ┆ true      ┆ {\"key_4\":\"value_4\",\" ┆ Another\\nexample\\nof │\n",
      "│     ┆         ┆      ┆ 08:08:39.481777 ┆           ┆ nested_key…          ┆ multiline…           │\n",
      "│ 5   ┆ Eva     ┆ null ┆ 2025-06-11      ┆ true      ┆ null                 ┆ NULL JSON\\nand AGE   │\n",
      "│     ┆         ┆      ┆ 08:08:39.481777 ┆           ┆                      ┆ values.              │\n",
      "└─────┴─────────┴──────┴─────────────────┴───────────┴──────────────────────┴──────────────────────┘\n"
     ]
    }
   ],
   "source": [
    "import polars as pl\n",
    "\n",
    "df_polars = pl.read_database_uri(\n",
    "    \"SELECT * FROM test_data_table\",\n",
    "    \"postgresql://noetl:noetl@db:5434/noetl\"\n",
    ")\n",
    "print(df_polars.head())"
   ]
  },
  {
   "cell_type": "code",
   "execution_count": null,
   "id": "52c96b89-bb13-4567-8d6e-618893a2f48a",
   "metadata": {},
   "outputs": [],
   "source": []
  }
 ],
 "metadata": {
  "kernelspec": {
   "display_name": "Python 3 (ipykernel)",
   "language": "python",
   "name": "python3"
  },
  "language_info": {
   "codemirror_mode": {
    "name": "ipython",
    "version": 3
   },
   "file_extension": ".py",
   "mimetype": "text/x-python",
   "name": "python",
   "nbconvert_exporter": "python",
   "pygments_lexer": "ipython3",
   "version": "3.11.6"
  }
 },
 "nbformat": 4,
 "nbformat_minor": 5
}
